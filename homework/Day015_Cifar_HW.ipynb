{
 "cells": [
  {
   "cell_type": "markdown",
   "metadata": {},
   "source": [
    "## 『本次練習內容』\n",
    "#### 運用這幾天所學觀念搭建一個CNN分類器"
   ]
  },
  {
   "cell_type": "markdown",
   "metadata": {},
   "source": [
    "## 『本次練習目的』\n",
    "  #### 熟悉CNN分類器搭建步驟與原理\n",
    "  #### 學員們可以嘗試不同搭法，如使用不同的Maxpooling層，用GlobalAveragePooling取代Flatten等等"
   ]
  },
  {
   "cell_type": "code",
   "execution_count": 14,
   "metadata": {},
   "outputs": [],
   "source": [
    "from keras.models import Sequential\n",
    "from keras.layers import Convolution2D\n",
    "from keras.layers import MaxPooling2D\n",
    "from keras.layers import Flatten\n",
    "from keras.layers import Dense\n",
    "from keras.layers import Dropout\n",
    "from keras.layers import BatchNormalization\n",
    "from keras.layers import GlobalAveragePooling2D\n",
    "from keras.datasets import cifar10\n",
    "import numpy as np\n",
    "import tensorflow as tf\n",
    "from sklearn.preprocessing import OneHotEncoder\n"
   ]
  },
  {
   "cell_type": "code",
   "execution_count": 15,
   "metadata": {},
   "outputs": [
    {
     "name": "stdout",
     "output_type": "stream",
     "text": [
      "(50000, 32, 32, 3)\n"
     ]
    }
   ],
   "source": [
    "(x_train, y_train), (x_test, y_test) = cifar10.load_data()\n",
    "\n",
    "print(x_train.shape) #(50000, 32, 32, 3)\n",
    "\n",
    "## Normalize Data\n",
    "def normalize(X_train,X_test):\n",
    "        mean = np.mean(X_train,axis=(0,1,2,3))\n",
    "        std = np.std(X_train, axis=(0, 1, 2, 3))\n",
    "        X_train = (X_train-mean)/(std+1e-7)\n",
    "        X_test = (X_test-mean)/(std+1e-7) \n",
    "        return X_train, X_test,mean,std\n",
    "    \n",
    "    \n",
    "## Normalize Training and Testset    \n",
    "x_train, x_test,mean_train,std_train = normalize(x_train, x_test) "
   ]
  },
  {
   "cell_type": "code",
   "execution_count": 16,
   "metadata": {},
   "outputs": [
    {
     "name": "stderr",
     "output_type": "stream",
     "text": [
      "C:\\Users\\lu\\Anaconda3\\lib\\site-packages\\sklearn\\preprocessing\\_encoders.py:415: FutureWarning: The handling of integer data will change in version 0.22. Currently, the categories are determined based on the range [0, max(values)], while in the future they will be determined based on the unique values.\n",
      "If you want the future behaviour and silence this warning, you can specify \"categories='auto'\".\n",
      "In case you used a LabelEncoder before this OneHotEncoder to convert the categories to integers, then you can now use the OneHotEncoder directly.\n",
      "  warnings.warn(msg, FutureWarning)\n"
     ]
    }
   ],
   "source": [
    "## OneHot Label 由(None, 1)-(None, 10)\n",
    "## ex. label=2,變成[0,0,1,0,0,0,0,0,0,0]\n",
    "one_hot=OneHotEncoder()\n",
    "y_train=one_hot.fit_transform(y_train).toarray()\n",
    "y_test=one_hot.transform(y_test).toarray()"
   ]
  },
  {
   "cell_type": "code",
   "execution_count": 45,
   "metadata": {},
   "outputs": [
    {
     "name": "stderr",
     "output_type": "stream",
     "text": [
      "C:\\Users\\lu\\Anaconda3\\lib\\site-packages\\ipykernel_launcher.py:30: UserWarning: Update your `Dense` call to the Keras 2 API: `Dense(activation=\"softmax\", units=10)`\n"
     ]
    },
    {
     "name": "stdout",
     "output_type": "stream",
     "text": [
      "Epoch 1/100\n",
      "50000/50000 [==============================] - 368s 7ms/step - loss: 1.4103 - accuracy: 0.5000\n",
      "Epoch 2/100\n",
      "50000/50000 [==============================] - 382s 8ms/step - loss: 0.9564 - accuracy: 0.6606\n",
      "Epoch 3/100\n",
      "50000/50000 [==============================] - 350s 7ms/step - loss: 0.7896 - accuracy: 0.7205\n",
      "Epoch 4/100\n",
      "50000/50000 [==============================] - 354s 7ms/step - loss: 0.6907 - accuracy: 0.7566\n",
      "Epoch 5/100\n",
      "50000/50000 [==============================] - 338s 7ms/step - loss: 0.6147 - accuracy: 0.7834\n",
      "Epoch 6/100\n",
      "50000/50000 [==============================] - 339s 7ms/step - loss: 0.5502 - accuracy: 0.8057\n",
      "Epoch 7/100\n",
      "50000/50000 [==============================] - 339s 7ms/step - loss: 0.4986 - accuracy: 0.8230\n",
      "Epoch 8/100\n",
      "50000/50000 [==============================] - 339s 7ms/step - loss: 0.4511 - accuracy: 0.8393\n",
      "Epoch 9/100\n",
      "50000/50000 [==============================] - 339s 7ms/step - loss: 0.4076 - accuracy: 0.8555\n",
      "Epoch 10/100\n",
      "50000/50000 [==============================] - 339s 7ms/step - loss: 0.3732 - accuracy: 0.8668\n",
      "Epoch 11/100\n",
      "50000/50000 [==============================] - 321s 6ms/step - loss: 0.3401 - accuracy: 0.8799\n",
      "Epoch 12/100\n",
      "50000/50000 [==============================] - 317s 6ms/step - loss: 0.3118 - accuracy: 0.8884\n",
      "Epoch 13/100\n",
      "50000/50000 [==============================] - 316s 6ms/step - loss: 0.2878 - accuracy: 0.8966\n",
      "Epoch 14/100\n",
      "50000/50000 [==============================] - 317s 6ms/step - loss: 0.2642 - accuracy: 0.9044\n",
      "Epoch 15/100\n",
      "50000/50000 [==============================] - 321s 6ms/step - loss: 0.2447 - accuracy: 0.9123\n",
      "Epoch 16/100\n",
      "50000/50000 [==============================] - 319s 6ms/step - loss: 0.2240 - accuracy: 0.9204\n",
      "Epoch 17/100\n",
      "50000/50000 [==============================] - 320s 6ms/step - loss: 0.2157 - accuracy: 0.9227\n",
      "Epoch 18/100\n",
      "50000/50000 [==============================] - 318s 6ms/step - loss: 0.1977 - accuracy: 0.9298\n",
      "Epoch 19/100\n",
      "50000/50000 [==============================] - 319s 6ms/step - loss: 0.1827 - accuracy: 0.9338\n",
      "Epoch 20/100\n",
      "50000/50000 [==============================] - 319s 6ms/step - loss: 0.1818 - accuracy: 0.9341\n",
      "Epoch 21/100\n",
      "50000/50000 [==============================] - 317s 6ms/step - loss: 0.1720 - accuracy: 0.9380\n",
      "Epoch 22/100\n",
      "50000/50000 [==============================] - 317s 6ms/step - loss: 0.1635 - accuracy: 0.9409\n",
      "Epoch 23/100\n",
      "50000/50000 [==============================] - 317s 6ms/step - loss: 0.1543 - accuracy: 0.9450\n",
      "Epoch 24/100\n",
      "50000/50000 [==============================] - 316s 6ms/step - loss: 0.1531 - accuracy: 0.9464\n",
      "Epoch 25/100\n",
      "50000/50000 [==============================] - 317s 6ms/step - loss: 0.1450 - accuracy: 0.9490\n",
      "Epoch 26/100\n",
      "50000/50000 [==============================] - 318s 6ms/step - loss: 0.1321 - accuracy: 0.9518\n",
      "Epoch 27/100\n",
      "50000/50000 [==============================] - 319s 6ms/step - loss: 0.1323 - accuracy: 0.9541\n",
      "Epoch 28/100\n",
      "50000/50000 [==============================] - 350s 7ms/step - loss: 0.1299 - accuracy: 0.9547\n",
      "Epoch 29/100\n",
      "50000/50000 [==============================] - 371s 7ms/step - loss: 0.1248 - accuracy: 0.9568\n",
      "Epoch 30/100\n",
      "50000/50000 [==============================] - 352s 7ms/step - loss: 0.1195 - accuracy: 0.9578\n",
      "Epoch 31/100\n",
      "50000/50000 [==============================] - 345s 7ms/step - loss: 0.1193 - accuracy: 0.9571\n",
      "Epoch 32/100\n",
      "50000/50000 [==============================] - 349s 7ms/step - loss: 0.1140 - accuracy: 0.9603\n",
      "Epoch 33/100\n",
      "50000/50000 [==============================] - 347s 7ms/step - loss: 0.1129 - accuracy: 0.9611\n",
      "Epoch 34/100\n",
      "50000/50000 [==============================] - 348s 7ms/step - loss: 0.1094 - accuracy: 0.9625\n",
      "Epoch 35/100\n",
      "50000/50000 [==============================] - 357s 7ms/step - loss: 0.1032 - accuracy: 0.9639\n",
      "Epoch 36/100\n",
      "50000/50000 [==============================] - 351s 7ms/step - loss: 0.1055 - accuracy: 0.9636\n",
      "Epoch 37/100\n",
      "50000/50000 [==============================] - 340s 7ms/step - loss: 0.0961 - accuracy: 0.9655\n",
      "Epoch 38/100\n",
      "50000/50000 [==============================] - 335s 7ms/step - loss: 0.0935 - accuracy: 0.9675\n",
      "Epoch 39/100\n",
      "50000/50000 [==============================] - 337s 7ms/step - loss: 0.0963 - accuracy: 0.9661\n",
      "Epoch 40/100\n",
      "50000/50000 [==============================] - 378s 8ms/step - loss: 0.0931 - accuracy: 0.9673\n",
      "Epoch 41/100\n",
      "50000/50000 [==============================] - 414s 8ms/step - loss: 0.0904 - accuracy: 0.9693\n",
      "Epoch 42/100\n",
      "50000/50000 [==============================] - 412s 8ms/step - loss: 0.0937 - accuracy: 0.9669\n",
      "Epoch 43/100\n",
      "50000/50000 [==============================] - 412s 8ms/step - loss: 0.0891 - accuracy: 0.9681\n",
      "Epoch 44/100\n",
      "50000/50000 [==============================] - 412s 8ms/step - loss: 0.0844 - accuracy: 0.9718\n",
      "Epoch 45/100\n",
      "50000/50000 [==============================] - 415s 8ms/step - loss: 0.0865 - accuracy: 0.9704\n",
      "Epoch 46/100\n",
      "50000/50000 [==============================] - 419s 8ms/step - loss: 0.0841 - accuracy: 0.9703\n",
      "Epoch 47/100\n",
      "50000/50000 [==============================] - 408s 8ms/step - loss: 0.0873 - accuracy: 0.9696\n",
      "Epoch 48/100\n",
      "50000/50000 [==============================] - 341s 7ms/step - loss: 0.0799 - accuracy: 0.9726\n",
      "Epoch 49/100\n",
      "50000/50000 [==============================] - 334s 7ms/step - loss: 0.0812 - accuracy: 0.9728\n",
      "Epoch 50/100\n",
      "50000/50000 [==============================] - 333s 7ms/step - loss: 0.0785 - accuracy: 0.9721\n",
      "Epoch 51/100\n",
      "50000/50000 [==============================] - 333s 7ms/step - loss: 0.0727 - accuracy: 0.9752\n",
      "Epoch 52/100\n",
      "50000/50000 [==============================] - 333s 7ms/step - loss: 0.0752 - accuracy: 0.9737\n",
      "Epoch 53/100\n",
      "50000/50000 [==============================] - 324s 6ms/step - loss: 0.0721 - accuracy: 0.9755\n",
      "Epoch 54/100\n",
      "50000/50000 [==============================] - 313s 6ms/step - loss: 0.0744 - accuracy: 0.9747\n",
      "Epoch 55/100\n",
      "50000/50000 [==============================] - 313s 6ms/step - loss: 0.0705 - accuracy: 0.9763\n",
      "Epoch 56/100\n",
      "50000/50000 [==============================] - 316s 6ms/step - loss: 0.0712 - accuracy: 0.9759\n",
      "Epoch 57/100\n",
      "50000/50000 [==============================] - 333s 7ms/step - loss: 0.0700 - accuracy: 0.9764\n",
      "Epoch 58/100\n",
      "50000/50000 [==============================] - 389s 8ms/step - loss: 0.0687 - accuracy: 0.9763\n",
      "Epoch 59/100\n",
      "50000/50000 [==============================] - 383s 8ms/step - loss: 0.0690 - accuracy: 0.9760\n",
      "Epoch 60/100\n",
      "50000/50000 [==============================] - 369s 7ms/step - loss: 0.0678 - accuracy: 0.9766\n",
      "Epoch 61/100\n",
      "50000/50000 [==============================] - 366s 7ms/step - loss: 0.0670 - accuracy: 0.9772\n",
      "Epoch 62/100\n",
      "50000/50000 [==============================] - 355s 7ms/step - loss: 0.0661 - accuracy: 0.9777\n",
      "Epoch 63/100\n",
      "50000/50000 [==============================] - 353s 7ms/step - loss: 0.0660 - accuracy: 0.9769\n",
      "Epoch 64/100\n",
      "50000/50000 [==============================] - 352s 7ms/step - loss: 0.0652 - accuracy: 0.9781\n",
      "Epoch 65/100\n",
      "50000/50000 [==============================] - 347s 7ms/step - loss: 0.0631 - accuracy: 0.9791\n",
      "Epoch 66/100\n",
      "50000/50000 [==============================] - 356s 7ms/step - loss: 0.0573 - accuracy: 0.9796\n",
      "Epoch 67/100\n",
      "50000/50000 [==============================] - 357s 7ms/step - loss: 0.0632 - accuracy: 0.9787\n",
      "Epoch 68/100\n",
      "50000/50000 [==============================] - 340s 7ms/step - loss: 0.0615 - accuracy: 0.9791\n",
      "Epoch 69/100\n",
      "50000/50000 [==============================] - 357s 7ms/step - loss: 0.0654 - accuracy: 0.9771\n",
      "Epoch 70/100\n",
      "50000/50000 [==============================] - 352s 7ms/step - loss: 0.0612 - accuracy: 0.9791\n",
      "Epoch 71/100\n",
      "50000/50000 [==============================] - 341s 7ms/step - loss: 0.0574 - accuracy: 0.9799\n",
      "Epoch 72/100\n",
      "50000/50000 [==============================] - 353s 7ms/step - loss: 0.0589 - accuracy: 0.9805\n",
      "Epoch 73/100\n",
      "50000/50000 [==============================] - 346s 7ms/step - loss: 0.0548 - accuracy: 0.9814\n",
      "Epoch 74/100\n",
      "50000/50000 [==============================] - 404s 8ms/step - loss: 0.0580 - accuracy: 0.9802\n",
      "Epoch 75/100\n",
      "50000/50000 [==============================] - 461s 9ms/step - loss: 0.0544 - accuracy: 0.9810\n",
      "Epoch 76/100\n"
     ]
    },
    {
     "name": "stdout",
     "output_type": "stream",
     "text": [
      "50000/50000 [==============================] - 444s 9ms/step - loss: 0.0557 - accuracy: 0.9808\n",
      "Epoch 77/100\n",
      "50000/50000 [==============================] - 458s 9ms/step - loss: 0.0556 - accuracy: 0.9812\n",
      "Epoch 78/100\n",
      "50000/50000 [==============================] - 456s 9ms/step - loss: 0.0513 - accuracy: 0.9827\n",
      "Epoch 79/100\n",
      "50000/50000 [==============================] - 446s 9ms/step - loss: 0.0538 - accuracy: 0.9816\n",
      "Epoch 80/100\n",
      "50000/50000 [==============================] - 380s 8ms/step - loss: 0.0571 - accuracy: 0.9810\n",
      "Epoch 81/100\n",
      "50000/50000 [==============================] - 338s 7ms/step - loss: 0.0517 - accuracy: 0.9817\n",
      "Epoch 82/100\n",
      "50000/50000 [==============================] - 339s 7ms/step - loss: 0.0514 - accuracy: 0.9827\n",
      "Epoch 83/100\n",
      "50000/50000 [==============================] - 339s 7ms/step - loss: 0.0538 - accuracy: 0.9819\n",
      "Epoch 84/100\n",
      "50000/50000 [==============================] - 347s 7ms/step - loss: 0.0524 - accuracy: 0.9822\n",
      "Epoch 85/100\n",
      "50000/50000 [==============================] - 343s 7ms/step - loss: 0.0432 - accuracy: 0.9848\n",
      "Epoch 86/100\n",
      "50000/50000 [==============================] - 341s 7ms/step - loss: 0.0467 - accuracy: 0.9844\n",
      "Epoch 87/100\n",
      "50000/50000 [==============================] - 338s 7ms/step - loss: 0.0490 - accuracy: 0.9829\n",
      "Epoch 88/100\n",
      "50000/50000 [==============================] - 340s 7ms/step - loss: 0.0528 - accuracy: 0.9825\n",
      "Epoch 89/100\n",
      "50000/50000 [==============================] - 346s 7ms/step - loss: 0.0454 - accuracy: 0.9843\n",
      "Epoch 90/100\n",
      "50000/50000 [==============================] - 340s 7ms/step - loss: 0.0490 - accuracy: 0.9836\n",
      "Epoch 91/100\n",
      "50000/50000 [==============================] - 341s 7ms/step - loss: 0.0494 - accuracy: 0.9831\n",
      "Epoch 92/100\n",
      "50000/50000 [==============================] - 340s 7ms/step - loss: 0.0459 - accuracy: 0.9840\n",
      "Epoch 93/100\n",
      "50000/50000 [==============================] - 341s 7ms/step - loss: 0.0473 - accuracy: 0.9840\n",
      "Epoch 94/100\n",
      "50000/50000 [==============================] - 341s 7ms/step - loss: 0.0447 - accuracy: 0.9848\n",
      "Epoch 95/100\n",
      "50000/50000 [==============================] - 346s 7ms/step - loss: 0.0464 - accuracy: 0.9842\n",
      "Epoch 96/100\n",
      "50000/50000 [==============================] - 348s 7ms/step - loss: 0.0442 - accuracy: 0.9852\n",
      "Epoch 97/100\n",
      "50000/50000 [==============================] - 348s 7ms/step - loss: 0.0423 - accuracy: 0.9853\n",
      "Epoch 98/100\n",
      "50000/50000 [==============================] - 351s 7ms/step - loss: 0.0468 - accuracy: 0.9847\n",
      "Epoch 99/100\n",
      "50000/50000 [==============================] - 349s 7ms/step - loss: 0.0469 - accuracy: 0.9843\n",
      "Epoch 100/100\n",
      "50000/50000 [==============================] - 348s 7ms/step - loss: 0.0467 - accuracy: 0.9845\n"
     ]
    },
    {
     "data": {
      "text/plain": [
       "<keras.callbacks.callbacks.History at 0x1745dad8320>"
      ]
     },
     "execution_count": 45,
     "metadata": {},
     "output_type": "execute_result"
    }
   ],
   "source": [
    "\n",
    "classifier=Sequential()\n",
    "\n",
    "#卷積組合\n",
    "classifier.add(Convolution2D(32, kernel_size=(3, 3), padding='same',input_shape=(32,32,3),activation='relu'))#32,3,3,input_shape=(32,32,3),activation='relu''\n",
    "classifier.add(BatchNormalization())\n",
    "\n",
    "#卷積組合\n",
    "classifier.add(Convolution2D(32, kernel_size=(3, 3), padding='same',activation='relu'))\n",
    "classifier.add(BatchNormalization())\n",
    "classifier.add(MaxPooling2D(pool_size=(2,2)))\n",
    "classifier.add(Dropout(0.25))\n",
    "\n",
    "classifier.add(Convolution2D(64, kernel_size=(3, 3), padding='same',activation='relu'))\n",
    "classifier.add(BatchNormalization())\n",
    "\n",
    "classifier.add(Convolution2D(64, kernel_size=(3, 3), padding='same',activation='relu'))\n",
    "classifier.add(BatchNormalization())\n",
    "classifier.add(MaxPooling2D(pool_size=(2,2)))\n",
    "classifier.add(Dropout(0.25))\n",
    "\n",
    "\n",
    "\n",
    "#flatten\n",
    "classifier.add(Flatten())\n",
    "\n",
    "#FC\n",
    "classifier.add(Dense(100,activation='relu')) #output_dim=100,activation=relu\n",
    "\n",
    "#輸出\n",
    "classifier.add(Dense(output_dim=10,activation='softmax'))\n",
    "\n",
    "#超過兩個就要選categorical_crossentrophy\n",
    "classifier.compile(optimizer = 'adam', loss = 'categorical_crossentropy', metrics = ['accuracy'])\n",
    "classifier.fit(x_train,y_train,batch_size=100,epochs=100)"
   ]
  },
  {
   "cell_type": "markdown",
   "metadata": {},
   "source": [
    "## 預測新圖片，輸入影像前處理要與訓練時相同\n",
    "#### ((X-mean)/(std+1e-7) ):這裡的mean跟std是訓練集的\n",
    "## 維度如下方示範"
   ]
  },
  {
   "cell_type": "code",
   "execution_count": 47,
   "metadata": {},
   "outputs": [
    {
     "data": {
      "text/plain": [
       "array([[1.9542722e-05, 6.0648432e-13, 1.0177113e-06, 8.1607131e-03,\n",
       "        5.4598364e-05, 2.2463230e-10, 1.5847931e-10, 1.9523024e-17,\n",
       "        9.9176413e-01, 1.5444944e-11]], dtype=float32)"
      ]
     },
     "execution_count": 47,
     "metadata": {},
     "output_type": "execute_result"
    }
   ],
   "source": [
    "input_example=(np.zeros(shape=(1,32,32,3))-mean_train)/(std_train+1e-7) \n",
    "classifier.predict(input_example)"
   ]
  },
  {
   "cell_type": "code",
   "execution_count": 48,
   "metadata": {},
   "outputs": [
    {
     "name": "stdout",
     "output_type": "stream",
     "text": [
      "10000/10000 [==============================] - 15s 2ms/step\n",
      "Test loss: 1.1633486387729646\n",
      "Test accuracy: 0.8082000017166138\n"
     ]
    }
   ],
   "source": [
    "scores = classifier.evaluate(x_test, y_test, verbose=1)\n",
    "print('Test loss:', scores[0])\n",
    "print('Test accuracy:', scores[1])"
   ]
  },
  {
   "cell_type": "code",
   "execution_count": 51,
   "metadata": {},
   "outputs": [
    {
     "name": "stdout",
     "output_type": "stream",
     "text": [
      "Saved trained model at C:\\Users\\lu\\Desktop\\2nd-DL-CVMarathon\\D15\\saved_models\\keras_cifar10_trained_model.h5 \n"
     ]
    }
   ],
   "source": [
    "import os\n",
    "save_dir = os.path.join(os.getcwd(), 'saved_models')\n",
    "model_name = 'keras_cifar10_trained_model.h5'\n",
    "\n",
    "if not os.path.isdir(save_dir):\n",
    "    os.makedirs(save_dir)\n",
    "model_path = os.path.join(save_dir, model_name)\n",
    "classifier.save(model_path)\n",
    "print('Saved trained model at %s ' % model_path)"
   ]
  },
  {
   "cell_type": "code",
   "execution_count": null,
   "metadata": {},
   "outputs": [],
   "source": []
  }
 ],
 "metadata": {
  "kernelspec": {
   "display_name": "Python 3",
   "language": "python",
   "name": "python3"
  },
  "language_info": {
   "codemirror_mode": {
    "name": "ipython",
    "version": 3
   },
   "file_extension": ".py",
   "mimetype": "text/x-python",
   "name": "python",
   "nbconvert_exporter": "python",
   "pygments_lexer": "ipython3",
   "version": "3.7.3"
  }
 },
 "nbformat": 4,
 "nbformat_minor": 2
}
